{
 "cells": [
  {
   "cell_type": "code",
   "execution_count": null,
   "metadata": {},
   "outputs": [],
   "source": [
    "// C-code to run at http://pythontutor.com/c.html#mode=edit\n",
    "\n",
    "// stack in functions\n",
    "float square(float x) {\n",
    "  float y = x*x;\n",
    "  return y;\n",
    "}\n",
    "\n",
    "// stack in recursive functions\n",
    "int fact(int n) {\n",
    "    if( n<=1 )\n",
    "        return 1;\n",
    "    int f = fact(n-1);\n",
    "    int res = n*f;\n",
    "    return res;\n",
    "}\n",
    "\n",
    "// call by value\n",
    "void change(int n, int *l) {\n",
    "    l[0] = 0;\n",
    "    n = n+1;\n",
    "}\n",
    "\n",
    "// call by references using pointers\n",
    "void changef(float *f) {\n",
    "    *f += 1;\n",
    "}\n",
    "    \n",
    "int main() {\n",
    "\n",
    "  float x = 2;\n",
    "  float z = square(x);\n",
    "\n",
    "  int f5 = fact(5);\n",
    "\n",
    "  int a = 3;\n",
    "  int *b = malloc(3*sizeof(int));\n",
    "  change(a,b);\n",
    "  free(b);\n",
    "  \n",
    "  changef( &x );\n",
    "\n",
    "  return 0;\n",
    "}"
   ]
  },
  {
   "cell_type": "code",
   "execution_count": null,
   "metadata": {},
   "outputs": [],
   "source": []
  }
 ],
 "metadata": {
  "kernelspec": {
   "display_name": "C",
   "language": "c",
   "name": "c"
  },
  "language_info": {
   "file_extension": ".c",
   "mimetype": "text/plain",
   "name": "c"
  }
 },
 "nbformat": 4,
 "nbformat_minor": 2
}
