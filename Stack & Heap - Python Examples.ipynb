{
 "cells": [
  {
   "cell_type": "markdown",
   "metadata": {},
   "source": [
    "Python examples to run at http://pythontutor.com/live.html#mode=edit"
   ]
  },
  {
   "cell_type": "code",
   "execution_count": 1,
   "metadata": {},
   "outputs": [
    {
     "name": "stdout",
     "output_type": "stream",
     "text": [
      "4\n"
     ]
    }
   ],
   "source": [
    "# P1 representation by value (numbers and strings) and by reference (objects, functions)\n",
    "\n",
    "x = 2;\n",
    "y = x;\n",
    "z = x + 2*y;\n",
    "w = \"hello\"\n",
    "l = [1,2,3]\n",
    "l.append(4)\n",
    "r = l\n",
    "r.append(5)\n",
    "\n",
    "# P2 frames global/local\n",
    "def square(x):\n",
    "    y = x*x\n",
    "    return y\n",
    "\n",
    "x = 2\n",
    "z = square(x)\n",
    "\n",
    "#P3 frames in recursive functions\n",
    "def fact(n):\n",
    "    if n<=1:\n",
    "        return 1\n",
    "    n1 = n-1\n",
    "    f = fact(n1)\n",
    "    res = n*f\n",
    "    return res\n",
    "\n",
    "x = fact(5)\n",
    "\n",
    "#P4 call by value and call by reference\n",
    "def change(n, l):\n",
    "    l.append(0)\n",
    "    n = n+1\n",
    "    \n",
    "a = 3\n",
    "b = [1,2,4]\n",
    "change(a, b)\n",
    "\n",
    "#P5 how to pass a number by reference (embed into a object)\n",
    "class mfloat:\n",
    "    def __init__(self, x):\n",
    "        self.x = x\n",
    "\n",
    "def change(mf):\n",
    "    mf.x += 1\n",
    "    \n",
    "mf = mfloat(3);\n",
    "change(mf)\n",
    "print(mf.x)"
   ]
  },
  {
   "cell_type": "code",
   "execution_count": null,
   "metadata": {},
   "outputs": [],
   "source": []
  }
 ],
 "metadata": {
  "kernelspec": {
   "display_name": "Python 3",
   "language": "python",
   "name": "python3"
  },
  "language_info": {
   "codemirror_mode": {
    "name": "ipython",
    "version": 3
   },
   "file_extension": ".py",
   "mimetype": "text/x-python",
   "name": "python",
   "nbconvert_exporter": "python",
   "pygments_lexer": "ipython3",
   "version": "3.6.6"
  }
 },
 "nbformat": 4,
 "nbformat_minor": 2
}
