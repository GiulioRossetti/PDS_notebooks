{
 "cells": [
  {
   "cell_type": "markdown",
   "metadata": {},
   "source": [
    "## Parsing example\n",
    "\n",
    "Install the lark-parser with"
   ]
  },
  {
   "cell_type": "markdown",
   "metadata": {},
   "source": [
    "> pip install lark-parser "
   ]
  },
  {
   "cell_type": "markdown",
   "metadata": {},
   "source": [
    "### Expression Grammar definition"
   ]
  },
  {
   "cell_type": "code",
   "execution_count": 13,
   "metadata": {},
   "outputs": [],
   "source": [
    "from lark import Lark, InlineTransformer \n",
    "\n",
    "grammar_exp = \"\"\"\n",
    "    ?start: exp\n",
    "    ?exp: product\n",
    "        | exp \"+\" product   -> add\n",
    "        | exp \"-\" product   -> sub\n",
    "    ?product: atom\n",
    "        | product \"*\" atom  -> mul\n",
    "        | product \"/\" atom  -> div\n",
    "    ?atom: NUMBER           -> number\n",
    "         | \"-\" atom         -> neg\n",
    "         | NAME             -> var\n",
    "         | \"(\" exp \")\"\n",
    "    %import common.CNAME -> NAME\n",
    "    %import common.NUMBER\n",
    "    %import common.WS_INLINE\n",
    "    %ignore WS_INLINE\n",
    "\"\"\""
   ]
  },
  {
   "cell_type": "markdown",
   "metadata": {},
   "source": [
    "Implementing the function described by grammar productions"
   ]
  },
  {
   "cell_type": "code",
   "execution_count": 14,
   "metadata": {},
   "outputs": [],
   "source": [
    "class Tree_Exp(InlineTransformer):\n",
    "    number = float\n",
    "\n",
    "    def number(self, value):\n",
    "        return ['number_const', float(value)]\n",
    "\n",
    "    def var(self, name):\n",
    "        return ['variable', str(name)]\n",
    "    \n",
    "    def add(self, left, right):\n",
    "        return ['+', left, right]\n",
    "    \n",
    "    def sub(self, left, right):\n",
    "        return ['-', left, right]\n",
    "    \n",
    "    def mul(self, left, right):\n",
    "        return ['*', left, right]\n",
    "    \n",
    "    def div(self, left, right):\n",
    "        return ['/', left, right]\n",
    "    \n",
    "    def neg(self, left):\n",
    "        return ['-', left]"
   ]
  },
  {
   "cell_type": "markdown",
   "metadata": {},
   "source": [
    "Building the parser using the defined AST representation"
   ]
  },
  {
   "cell_type": "code",
   "execution_count": 15,
   "metadata": {},
   "outputs": [],
   "source": [
    "def get_parser_exp():\n",
    "    parser = Lark(grammar_exp, parser='lalr', transformer=Tree_Exp())\n",
    "    return parser.parse"
   ]
  },
  {
   "cell_type": "markdown",
   "metadata": {},
   "source": [
    "Example of usage"
   ]
  },
  {
   "cell_type": "code",
   "execution_count": 16,
   "metadata": {},
   "outputs": [
    {
     "data": {
      "text/plain": [
       "['+', ['number_const', 3.0], ['number_const', 5.0]]"
      ]
     },
     "execution_count": 16,
     "metadata": {},
     "output_type": "execute_result"
    }
   ],
   "source": [
    "parse = get_parser_exp()\n",
    "    \n",
    "E1 = parse(\"3+5\")\n",
    "E1"
   ]
  },
  {
   "cell_type": "code",
   "execution_count": 5,
   "metadata": {},
   "outputs": [
    {
     "data": {
      "text/plain": [
       "['-', ['*', ['number_const', 2.0], ['variable', 'x']], ['variable', 'y']]"
      ]
     },
     "execution_count": 5,
     "metadata": {},
     "output_type": "execute_result"
    }
   ],
   "source": [
    "E2 = parse(\"2*x-y\")\n",
    "E2"
   ]
  },
  {
   "cell_type": "code",
   "execution_count": 6,
   "metadata": {},
   "outputs": [
    {
     "data": {
      "text/plain": [
       "['*', ['variable', 'x'], ['+', ['number_const', 5.0], ['variable', 'z']]]"
      ]
     },
     "execution_count": 6,
     "metadata": {},
     "output_type": "execute_result"
    }
   ],
   "source": [
    "E3 = parse(\"x*(5+z)\")\n",
    "E3"
   ]
  },
  {
   "cell_type": "markdown",
   "metadata": {},
   "source": [
    "### Objective: define solve_exp(E, sigma)\n",
    "\n",
    "How to get to a function that given an AST and a sigma evaluate the Expression in sigma?"
   ]
  },
  {
   "cell_type": "code",
   "execution_count": 9,
   "metadata": {},
   "outputs": [],
   "source": [
    "sigma = {} # empty interpretation\n",
    "# print('E1 = ', solve_exp(E1, sigma))"
   ]
  },
  {
   "cell_type": "code",
   "execution_count": 10,
   "metadata": {},
   "outputs": [],
   "source": [
    "sigma = { 'x':2, 'y':1 }\n",
    "# print('E2 = ', solve_exp(E2, sigma))"
   ]
  },
  {
   "cell_type": "code",
   "execution_count": 11,
   "metadata": {},
   "outputs": [],
   "source": [
    "sigma = { 'x':2, 'y':1, 'z':1 }\n",
    "# print('E3 = ', solve_exp(E3, sigma))"
   ]
  },
  {
   "cell_type": "markdown",
   "metadata": {},
   "source": [
    "Let's define a solver"
   ]
  },
  {
   "cell_type": "code",
   "execution_count": 27,
   "metadata": {},
   "outputs": [],
   "source": [
    "def solve_exp(exp, sigma):\n",
    "    op = exp[0]\n",
    "    if op == 'number_const':\n",
    "        return exp[1]\n",
    "    if op == 'variable':\n",
    "        return sigma[exp[1]]\n",
    "    if op == '+':\n",
    "        return solve_exp(exp[1], sigma) + solve_exp(exp[2], sigma)\n",
    "    if op == '-':\n",
    "        return solve_exp(exp[1], sigma) - solve_exp(exp[2], sigma)\n",
    "    if op == '/':\n",
    "        return solve_exp(exp[1], sigma) / solve_exp(exp[2], sigma)\n",
    "    if op == '*':\n",
    "        return solve_exp(exp[1], sigma) * solve_exp(exp[2], sigma)\n",
    "    if op == '-':\n",
    "        return -solve_exp(exp[1], sigma)"
   ]
  },
  {
   "cell_type": "markdown",
   "metadata": {},
   "source": [
    "Using solve_exp to move from expression to their evaluation\n",
    "\n",
    "Evaluating a number"
   ]
  },
  {
   "cell_type": "code",
   "execution_count": 22,
   "metadata": {},
   "outputs": [
    {
     "name": "stdout",
     "output_type": "stream",
     "text": [
      "['number_const', 5.0]\n"
     ]
    },
    {
     "data": {
      "text/plain": [
       "5.0"
      ]
     },
     "execution_count": 22,
     "metadata": {},
     "output_type": "execute_result"
    }
   ],
   "source": [
    "E0 = parse(\"5\")\n",
    "print(E0)\n",
    "solve_exp(E0, sigma)"
   ]
  },
  {
   "cell_type": "markdown",
   "metadata": {},
   "source": [
    "Evaluating a variable (given the current sigma)"
   ]
  },
  {
   "cell_type": "code",
   "execution_count": 24,
   "metadata": {},
   "outputs": [
    {
     "name": "stdout",
     "output_type": "stream",
     "text": [
      "['variable', 'x']\n"
     ]
    },
    {
     "data": {
      "text/plain": [
       "2"
      ]
     },
     "execution_count": 24,
     "metadata": {},
     "output_type": "execute_result"
    }
   ],
   "source": [
    "E0 = parse(\"x\")\n",
    "print(E0)\n",
    "solve_exp(E0, sigma)"
   ]
  },
  {
   "cell_type": "markdown",
   "metadata": {},
   "source": [
    "Evaluating a sum"
   ]
  },
  {
   "cell_type": "code",
   "execution_count": 26,
   "metadata": {},
   "outputs": [
    {
     "name": "stdout",
     "output_type": "stream",
     "text": [
      "['+', ['variable', 'x'], ['variable', 'y']]\n"
     ]
    },
    {
     "data": {
      "text/plain": [
       "3"
      ]
     },
     "execution_count": 26,
     "metadata": {},
     "output_type": "execute_result"
    }
   ],
   "source": [
    "E0 = parse(\"x+y\")\n",
    "print(E0)\n",
    "solve_exp(E0, sigma)"
   ]
  },
  {
   "cell_type": "markdown",
   "metadata": {},
   "source": [
    "Evaluating a composite expression"
   ]
  },
  {
   "cell_type": "code",
   "execution_count": 28,
   "metadata": {},
   "outputs": [
    {
     "name": "stdout",
     "output_type": "stream",
     "text": [
      "['-', ['+', ['variable', 'x'], ['variable', 'y']], ['/', ['*', ['number_const', 5.0], ['number_const', 2.0]], ['number_const', 6.0]]]\n"
     ]
    },
    {
     "data": {
      "text/plain": [
       "1.3333333333333333"
      ]
     },
     "execution_count": 28,
     "metadata": {},
     "output_type": "execute_result"
    }
   ],
   "source": [
    "E0 = parse(\"x+y-5*2/6\")\n",
    "print(E0)\n",
    "solve_exp(E0, sigma)"
   ]
  },
  {
   "cell_type": "code",
   "execution_count": null,
   "metadata": {},
   "outputs": [],
   "source": []
  }
 ],
 "metadata": {
  "kernelspec": {
   "display_name": "Python 3",
   "language": "python",
   "name": "python3"
  },
  "language_info": {
   "codemirror_mode": {
    "name": "ipython",
    "version": 3
   },
   "file_extension": ".py",
   "mimetype": "text/x-python",
   "name": "python",
   "nbconvert_exporter": "python",
   "pygments_lexer": "ipython3",
   "version": "3.6.6"
  }
 },
 "nbformat": 4,
 "nbformat_minor": 2
}
