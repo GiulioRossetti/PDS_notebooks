{
 "cells": [
  {
   "cell_type": "markdown",
   "metadata": {},
   "source": [
    "## Handling RAM-like memory\n",
    "\n",
    "- Definition of afixed size memory support"
   ]
  },
  {
   "cell_type": "code",
   "execution_count": 1,
   "metadata": {},
   "outputs": [],
   "source": [
    "MEMSIZE = 1000 # total size of memory\n",
    "mem = [None for _ in range(MEMSIZE)] # memory\n",
    "stack_pos = 0 # head to first free position in stack\n",
    "heap_pos = MEMSIZE # head to last occupied position in heap"
   ]
  },
  {
   "cell_type": "markdown",
   "metadata": {},
   "source": [
    "- Initialization of the memory"
   ]
  },
  {
   "cell_type": "code",
   "execution_count": 2,
   "metadata": {},
   "outputs": [],
   "source": [
    "def mem_init():\n",
    "    global mem, stack_pos, heap_pos\n",
    "    mem = [None for _ in range(MEMSIZE)] # memory\n",
    "    stack_pos = 0 # head to first free position in stack\n",
    "    heap_pos = MEMSIZE # head to last occupied position in heap"
   ]
  },
  {
   "cell_type": "markdown",
   "metadata": {},
   "source": [
    "- Visuzlize memory content (i.e., [stck0, stack1, stack2, ..., heaph2, heap1, heap0])"
   ]
  },
  {
   "cell_type": "code",
   "execution_count": 3,
   "metadata": {},
   "outputs": [],
   "source": [
    "def mem_dump(sigma):\n",
    "    print(\"sigma = \", sigma, \" mem = \", \n",
    "          [ mem[i] for i in range(stack_pos)] + [\"...\"] + \n",
    "           [ mem[i] for i in range(heap_pos, MEMSIZE)])"
   ]
  },
  {
   "cell_type": "markdown",
   "metadata": {},
   "source": [
    "- Handling heap memory allocation (*malloc*) and release (*free*)"
   ]
  },
  {
   "cell_type": "code",
   "execution_count": 4,
   "metadata": {},
   "outputs": [],
   "source": [
    "def malloc(npositions):\n",
    "    global heap_pos\n",
    "    heap_pos -= npositions\n",
    "    return heap_pos"
   ]
  },
  {
   "cell_type": "code",
   "execution_count": 5,
   "metadata": {},
   "outputs": [],
   "source": [
    "def free(address):\n",
    "    pass # no action here, garbage collection is a complex task"
   ]
  },
  {
   "cell_type": "markdown",
   "metadata": {
    "toc-hr-collapsed": false
   },
   "source": [
    "## Expression and Boolean Interpreter\n",
    "\n",
    "Let's review the Expression and Boolean parser from last week"
   ]
  },
  {
   "cell_type": "code",
   "execution_count": 6,
   "metadata": {},
   "outputs": [],
   "source": [
    "from lark import Lark, InlineTransformer \n",
    "\n",
    "\n",
    "\"\"\" gexp is boolexp grammar on top of exp grammar: \n",
    "    numeric operators have higher precedence than boolean operators.\n",
    "\"\"\"\n",
    "grammar_gexp = \"\"\"\n",
    "    ?start: boolexp\n",
    "    ?boolexp: booland\n",
    "        | boolexp \"or\" booland -> orop\n",
    "    ?booland: boolnot\n",
    "        | booland \"and\" boolnot -> andop\n",
    "    ?boolnot: boolcmp\n",
    "        | \"not\" boolnot     -> notop\n",
    "    ?boolcmp: expcmp\n",
    "        | boolcmp \"==\" expcmp -> eq\n",
    "    ?expcmp: exp\n",
    "        | expcmp \"<=\" exp      -> lte\n",
    "        | expcmp \"<\" exp       -> lt\n",
    "    ?exp: product\n",
    "        | exp \"+\" product   -> add\n",
    "        | exp \"-\" product   -> sub\n",
    "    ?product: atom\n",
    "        | product \"*\" atom  -> mul\n",
    "        | product \"/\" atom  -> div\n",
    "    ?atom: NUMBER           -> number\n",
    "         | \"-\" atom         -> neg\n",
    "         | \"True\"           -> true\n",
    "         | \"False\"          -> false\n",
    "         | NAME             -> var\n",
    "         | \"(\" boolexp \")\"\n",
    "    %import common.CNAME -> NAME\n",
    "    %import common.NUMBER\n",
    "    %import common.WS_INLINE\n",
    "    %ignore WS_INLINE\n",
    "\"\"\""
   ]
  },
  {
   "cell_type": "code",
   "execution_count": 7,
   "metadata": {},
   "outputs": [],
   "source": [
    "class Tree_GExp(InlineTransformer):\n",
    "    number = float\n",
    "\n",
    "    def var(self, name):\n",
    "        return ['variable', str(name)]\n",
    "    \n",
    "    def false(self):\n",
    "        return ['bool_const', False]\n",
    "    \n",
    "    def true(bool_const):\n",
    "        return ['bool_const', True]\n",
    "    \n",
    "    def orop(self, left, right):\n",
    "        return ['or', left, right]\n",
    "    \n",
    "    def andop(self, left, right):\n",
    "        return ['and', left, right]\n",
    "\n",
    "    def notop(self, value):\n",
    "        return ['not', value]\n",
    "\n",
    "    def lte(self, left, right):\n",
    "        return ['<=', left, right]\n",
    "\n",
    "    def lt(self, left, right):\n",
    "        return ['<', left, right]\n",
    "\n",
    "    def eq(self, left, right):\n",
    "        return ['==', left, right]\n",
    "\n",
    "    def number(self, value):\n",
    "        return ['number_const', float(value)]\n",
    "\n",
    "    def add(self, left, right):\n",
    "        return ['+', left, right]\n",
    "    \n",
    "    def sub(self, left, right):\n",
    "        return ['-', left, right]\n",
    "    \n",
    "    def mul(self, left, right):\n",
    "        return ['*', left, right]\n",
    "    \n",
    "    def div(self, left, right):\n",
    "        return ['/', left, right]\n",
    "    \n",
    "    def neg(self, left):\n",
    "        return ['-', left]"
   ]
  },
  {
   "cell_type": "code",
   "execution_count": 8,
   "metadata": {},
   "outputs": [],
   "source": [
    "def solve_exp(exp, sigma):\n",
    "    op = exp[0]\n",
    "    \n",
    "    \"\"\" Algebra of numbers \"\"\"\n",
    "    if op=='number_const':\n",
    "        return exp[1]\n",
    "    if op=='variable':\n",
    "        return sigma[exp[1]] # Accessing the value assigned to the variable name in sigma\n",
    "    if op=='+':\n",
    "        return solve_exp(exp[1], sigma) + solve_exp(exp[2], sigma)\n",
    "    if op=='-' and len(exp)==3:\n",
    "        return solve_exp(exp[1], sigma) - solve_exp(exp[2], sigma)\n",
    "    if op=='-' and len(exp)==2:\n",
    "        return -solve_exp(exp[1], sigma)\n",
    "    if op=='*':\n",
    "        return solve_exp(exp[1], sigma) * solve_exp(exp[2], sigma)\n",
    "    if op=='/':\n",
    "        return solve_exp(exp[1], sigma) / solve_exp(exp[2], sigma)\n",
    "    \n",
    "    \"\"\" Algebra of Booleans \"\"\"\n",
    "    if op=='bool_const':\n",
    "        return exp[1]\n",
    "    if op=='or':\n",
    "        return bool(solve_exp(exp[1], sigma)) or bool(solve_exp(exp[2], sigma))\n",
    "    if op=='and':\n",
    "        return bool(solve_exp(exp[1], sigma)) and bool(solve_exp(exp[2], sigma))\n",
    "    if op=='not':\n",
    "        return not solve_exp(exp[1], sigma)\n",
    "    if op=='==':\n",
    "        return solve_exp(exp[1], sigma) == solve_exp(exp[2], sigma)\n",
    "    if op=='<=':\n",
    "        return solve_exp(exp[1], sigma) <= solve_exp(exp[2], sigma)\n",
    "    if op=='<':\n",
    "        return solve_exp(exp[1], sigma) < solve_exp(exp[2], sigma)  \n",
    "\n",
    "def get_parser_gexp():\n",
    "    parser = Lark(grammar_gexp, parser='lalr', transformer=Tree_GExp())\n",
    "    return parser.parse"
   ]
  },
  {
   "cell_type": "markdown",
   "metadata": {},
   "source": [
    "### Examples of memory addressing"
   ]
  },
  {
   "cell_type": "code",
   "execution_count": 9,
   "metadata": {},
   "outputs": [
    {
     "name": "stdout",
     "output_type": "stream",
     "text": [
      "['+', ['variable', 'x'], ['*', ['number_const', 2.0], ['variable', 'y']]]\n"
     ]
    }
   ],
   "source": [
    "parse_exp = get_parser_gexp()\n",
    "    \n",
    "E1 = parse_exp(\"x + 2*y\")\n",
    "print(E1)"
   ]
  },
  {
   "cell_type": "code",
   "execution_count": 10,
   "metadata": {},
   "outputs": [
    {
     "name": "stdout",
     "output_type": "stream",
     "text": [
      "sigma =  {'x': 0, 'y': 1}  mem =  [2, 3, '...']\n"
     ]
    }
   ],
   "source": [
    "sigma = { 'x':0, 'y':1 } # sigma maps names to addresses, mem maps addresses to values\n",
    "mem[0] = 2 \n",
    "mem[1] = 3\n",
    "stack_pos = 2 # Next available position on the stack\n",
    "mem_dump(sigma)\n",
    "\n",
    "# print('E1 = ', solve_exp(E1, sigma))"
   ]
  },
  {
   "cell_type": "code",
   "execution_count": 11,
   "metadata": {},
   "outputs": [
    {
     "name": "stdout",
     "output_type": "stream",
     "text": [
      "sigma =  {'x': 2, 'y': 1}  mem =  [2, 3, 1, '...']\n"
     ]
    }
   ],
   "source": [
    "\"\"\" new address associated to x \"\"\"\n",
    "sigma = { 'x':2, 'y':1 }\n",
    "mem[2] = 1\n",
    "stack_pos += 1\n",
    "mem_dump(sigma)\n",
    "\n",
    "# print('E1 = ', solve_exp(E1, sigma))"
   ]
  },
  {
   "cell_type": "code",
   "execution_count": 12,
   "metadata": {},
   "outputs": [
    {
     "name": "stdout",
     "output_type": "stream",
     "text": [
      "sigma =  {'x': 0, 'y': 0}  mem =  [2, '...']\n"
     ]
    }
   ],
   "source": [
    "\"\"\" variable may share same address \"\"\"\n",
    "sigma = { 'x':0, 'y':0 }\n",
    "mem[0] = 2\n",
    "stack_pos = 1\n",
    "mem_dump(sigma)\n",
    "\n",
    "# print('E1 = ', solve_exp(E1, sigma))"
   ]
  },
  {
   "cell_type": "markdown",
   "metadata": {
    "toc-hr-collapsed": false
   },
   "source": [
    "# Iterpreter for a C-like language"
   ]
  },
  {
   "cell_type": "markdown",
   "metadata": {
    "toc-hr-collapsed": false
   },
   "source": [
    "## Grammar\n",
    "\n",
    "The new grammar builds up on the Expressions and Boolean one. "
   ]
  },
  {
   "cell_type": "code",
   "execution_count": 13,
   "metadata": {},
   "outputs": [],
   "source": [
    "from lark import Lark \n",
    "\n",
    "grammar_cmd = \"\"\"\n",
    "    ?start: cmd\n",
    "    ?cmd: cmdbase\n",
    "        | cmd cmdbase           -> seq\n",
    "    ?cmdbase: \"var\" NAME \";\"    -> vardecl\n",
    "        | NAME \"=\" gexp \";\"     -> assignment\n",
    "        | \"*\" NAME \"=\" gexp \";\" -> derefassignment\n",
    "        | \"{\" cmd \"}\"       -> block\n",
    "        | \"if\" \"(\" gexp \")\" cmdbase \"else\" cmdbase -> ifelse\n",
    "        | \"if\" \"(\" gexp \")\" cmdbase     -> ifcond\n",
    "        | \"while\" \"(\" gexp \")\" cmdbase  -> loop\n",
    "        | \"print\" \"(\" gexp \")\" \";\"      -> pprint\n",
    "        | \"free\" \"(\" NAME \")\" \";\"       -> free\n",
    "\"\"\" + grammar_gexp.replace(\"\\n    ?start:\", \"    ?gexp:\").\\\n",
    "replace(\"\\n         | NAME\", \"\"\"\n",
    "         | \"&\" NAME           -> ref\n",
    "         | \"*\" NAME           -> deref\n",
    "         | \"malloc\" \"(\" gexp \")\"   -> malloc\n",
    "         | NAME \"(\" gexp \")\"  -> call\n",
    "         | NAME\"\"\")"
   ]
  },
  {
   "cell_type": "markdown",
   "metadata": {},
   "source": [
    "Here the complete grammar for our language"
   ]
  },
  {
   "cell_type": "code",
   "execution_count": 14,
   "metadata": {},
   "outputs": [
    {
     "name": "stdout",
     "output_type": "stream",
     "text": [
      "\n",
      "    ?start: cmd\n",
      "    ?cmd: cmdbase\n",
      "        | cmd cmdbase           -> seq\n",
      "    ?cmdbase: \"var\" NAME \";\"    -> vardecl\n",
      "        | NAME \"=\" gexp \";\"     -> assignment\n",
      "        | \"*\" NAME \"=\" gexp \";\" -> derefassignment\n",
      "        | \"{\" cmd \"}\"       -> block\n",
      "        | \"if\" \"(\" gexp \")\" cmdbase \"else\" cmdbase -> ifelse\n",
      "        | \"if\" \"(\" gexp \")\" cmdbase     -> ifcond\n",
      "        | \"while\" \"(\" gexp \")\" cmdbase  -> loop\n",
      "        | \"print\" \"(\" gexp \")\" \";\"      -> pprint\n",
      "        | \"free\" \"(\" NAME \")\" \";\"       -> free\n",
      "    ?gexp: boolexp\n",
      "    ?boolexp: booland\n",
      "        | boolexp \"or\" booland -> orop\n",
      "    ?booland: boolnot\n",
      "        | booland \"and\" boolnot -> andop\n",
      "    ?boolnot: boolcmp\n",
      "        | \"not\" boolnot     -> notop\n",
      "    ?boolcmp: expcmp\n",
      "        | boolcmp \"==\" expcmp -> eq\n",
      "    ?expcmp: exp\n",
      "        | expcmp \"<=\" exp      -> lte\n",
      "        | expcmp \"<\" exp       -> lt\n",
      "    ?exp: product\n",
      "        | exp \"+\" product   -> add\n",
      "        | exp \"-\" product   -> sub\n",
      "    ?product: atom\n",
      "        | product \"*\" atom  -> mul\n",
      "        | product \"/\" atom  -> div\n",
      "    ?atom: NUMBER           -> number\n",
      "         | \"-\" atom         -> neg\n",
      "         | \"True\"           -> true\n",
      "         | \"False\"          -> false\n",
      "         | \"&\" NAME           -> ref\n",
      "         | \"*\" NAME           -> deref\n",
      "         | \"malloc\" \"(\" gexp \")\"   -> malloc\n",
      "         | NAME \"(\" gexp \")\"  -> call\n",
      "         | NAME             -> var\n",
      "         | \"(\" boolexp \")\"\n",
      "    %import common.CNAME -> NAME\n",
      "    %import common.NUMBER\n",
      "    %import common.WS_INLINE\n",
      "    %ignore WS_INLINE\n",
      "\n"
     ]
    }
   ],
   "source": [
    "print(grammar_cmd)"
   ]
  },
  {
   "cell_type": "markdown",
   "metadata": {
    "toc-hr-collapsed": true
   },
   "source": [
    "## Parser"
   ]
  },
  {
   "cell_type": "code",
   "execution_count": 15,
   "metadata": {},
   "outputs": [],
   "source": [
    "class Tree_Cmd(Tree_GExp): # Extends the previously defined parser for expressions and booleans\n",
    "    \n",
    "    def vardecl(self, var):\n",
    "        return ['decl', str(var)]\n",
    "\n",
    "    def assignment(self, var, expr):\n",
    "        return ['=', str(var), expr]\n",
    "\n",
    "    def derefassignment(self, var, expr):\n",
    "        return ['deref=', str(var), expr]\n",
    "\n",
    "    def seq(self, cmd1, cmd2):\n",
    "        if cmd1[0]=='seq':\n",
    "            return ['seq'] + cmd1[1:] + [cmd2]\n",
    "        return ['seq', cmd1, cmd2]\n",
    "\n",
    "    def block(self, cmd):\n",
    "        return ['block', cmd]\n",
    "\n",
    "    def ifelse(self, cond, cmdif, cmdelse):\n",
    "        return ['if', cond, cmdif, cmdelse]\n",
    "    \n",
    "    def ifcond(self, cond, cmd):\n",
    "        return ['if', cond, cmd]\n",
    "\n",
    "    def loop(self, cond, cmd):\n",
    "        return ['while', cond, cmd]\n",
    "\n",
    "    def pprint(self, gexp):\n",
    "        return ['print', gexp]\n",
    "\n",
    "    def ref(self, var):\n",
    "        return ['ref', str(var)]\n",
    "\n",
    "    def deref(self, var):\n",
    "        return ['deref', str(var)]\n",
    "\n",
    "    def malloc(self, exp):\n",
    "        return ['malloc', exp]\n",
    "\n",
    "    def free(self, var):\n",
    "        return ['free', str(var)]"
   ]
  },
  {
   "cell_type": "code",
   "execution_count": 16,
   "metadata": {},
   "outputs": [],
   "source": [
    "def get_parser_cmd():\n",
    "    parser = Lark(grammar_cmd, parser='lalr', transformer=Tree_Cmd())\n",
    "    return parser.parse "
   ]
  },
  {
   "cell_type": "markdown",
   "metadata": {
    "toc-hr-collapsed": false
   },
   "source": [
    "### Example"
   ]
  },
  {
   "cell_type": "code",
   "execution_count": 17,
   "metadata": {},
   "outputs": [
    {
     "data": {
      "text/plain": [
       "['seq',\n",
       " ['decl', 'x'],\n",
       " ['=', 'x', ['number_const', 2.0]],\n",
       " ['decl', 'y'],\n",
       " ['=', 'y', ['number_const', 1.0]],\n",
       " ['decl', 'z'],\n",
       " ['=',\n",
       "  'z',\n",
       "  ['+', ['variable', 'x'], ['*', ['number_const', 2.0], ['variable', 'y']]]],\n",
       " ['print', ['variable', 'z']]]"
      ]
     },
     "execution_count": 17,
     "metadata": {},
     "output_type": "execute_result"
    }
   ],
   "source": [
    "parse = get_parser_cmd()\n",
    "    \n",
    "C1 = parse(\"var x; x = 2; var y; y = 1; var z; z = x+2*y; print(z);\")\n",
    "C1    "
   ]
  },
  {
   "cell_type": "markdown",
   "metadata": {
    "toc-hr-collapsed": false
   },
   "source": [
    "## Interpreter\n",
    "\n",
    "- Expression & Boolean interpreter extended with memory addressing (and a few new operators...)"
   ]
  },
  {
   "cell_type": "code",
   "execution_count": 18,
   "metadata": {},
   "outputs": [],
   "source": [
    "def solve_exp(exp, sigma):\n",
    "    op = exp[0]\n",
    "    \n",
    "    \"\"\" Algebra of numbers \"\"\"\n",
    "    if op=='number_const':\n",
    "        return exp[1]\n",
    "    if op=='variable':\n",
    "        return mem[sigma[exp[1]]] # Memory addressing!\n",
    "    if op=='+':\n",
    "        return solve_exp(exp[1], sigma) + solve_exp(exp[2], sigma)\n",
    "    if op=='-' and len(exp)==3:\n",
    "        return solve_exp(exp[1], sigma) - solve_exp(exp[2], sigma)\n",
    "    if op=='-' and len(exp)==2:\n",
    "        return -solve_exp(exp[1], sigma)\n",
    "    if op=='*':\n",
    "        return solve_exp(exp[1], sigma) * solve_exp(exp[2], sigma)\n",
    "    if op=='/':\n",
    "        return solve_exp(exp[1], sigma) / solve_exp(exp[2], sigma)\n",
    "    \n",
    "    \"\"\" Algebra of Booleans \"\"\"\n",
    "    if op=='bool_const':\n",
    "        return exp[1]\n",
    "    if op=='or':\n",
    "        return bool(solve_exp(exp[1], sigma)) or bool(solve_exp(exp[2], sigma))\n",
    "    if op=='and':\n",
    "        return bool(solve_exp(exp[1], sigma)) and bool(solve_exp(exp[2], sigma))\n",
    "    if op=='not':\n",
    "        return not solve_exp(exp[1], sigma)\n",
    "    if op=='==':\n",
    "        return solve_exp(exp[1], sigma) == solve_exp(exp[2], sigma)\n",
    "    if op=='<=':\n",
    "        return solve_exp(exp[1], sigma) <= solve_exp(exp[2], sigma)\n",
    "    if op=='<':\n",
    "        return solve_exp(exp[1], sigma) < solve_exp(exp[2], sigma)\n",
    "    \n",
    "    # new operators\n",
    "    if op=='ref':\n",
    "        return sigma[exp[1]]\n",
    "    if op=='deref':\n",
    "        return mem[mem[sigma[exp[1]]]] \n",
    "    if op=='malloc':\n",
    "        return malloc(int(solve_exp(exp[1], sigma)))"
   ]
  },
  {
   "cell_type": "markdown",
   "metadata": {},
   "source": [
    "Support function for updating the sigma"
   ]
  },
  {
   "cell_type": "code",
   "execution_count": 19,
   "metadata": {},
   "outputs": [],
   "source": [
    "def merge_two_dicts(d1, d2):\n",
    "    d = d1.copy()\n",
    "    d.update(d2)\n",
    "    return d"
   ]
  },
  {
   "cell_type": "markdown",
   "metadata": {},
   "source": [
    "- Interpreter for C-like commands"
   ]
  },
  {
   "cell_type": "code",
   "execution_count": 20,
   "metadata": {},
   "outputs": [],
   "source": [
    "def solve_cmd(cmd, sigma):\n",
    "    \n",
    "    global stack_pos\n",
    "    op = cmd[0]\n",
    "    \n",
    "    if op=='decl':\n",
    "        var = cmd[1]\n",
    "        \"\"\" stack pushing \"\"\"\n",
    "        address = stack_pos\n",
    "        stack_pos += 1\n",
    "        return merge_two_dicts(sigma, {var:address})\n",
    "    \n",
    "    if op=='=':\n",
    "        var = cmd[1]\n",
    "        expr = cmd[2]\n",
    "        mem[sigma[var]] = solve_exp(expr, sigma)\n",
    "        return sigma\n",
    "    \n",
    "    if op=='seq':\n",
    "        for c in cmd[1:]:\n",
    "            sigma = solve_cmd(c, sigma)\n",
    "        return sigma\n",
    "    \n",
    "    if op=='print':\n",
    "        val = solve_exp(cmd[1], sigma)\n",
    "        print(val)\n",
    "        return sigma\n",
    "    \n",
    "    if op=='block':\n",
    "        tmp = stack_pos\n",
    "        solve_cmd(cmd[1], sigma)\n",
    "        \"\"\" stack popping \"\"\"\n",
    "        stack_pos = tmp\n",
    "        return sigma\n",
    "    \n",
    "    if op=='if':\n",
    "        b = solve_exp(cmd[1], sigma)\n",
    "        if b:\n",
    "            return solve_cmd(cmd[2], sigma)\n",
    "        if len(cmd)==4: #if else\n",
    "            return solve_cmd(cmd[3], sigma)\n",
    "        return sigma\n",
    "    \n",
    "    if op=='while':\n",
    "        b = solve_exp(cmd[1], sigma)\n",
    "        if not b:\n",
    "            return sigma\n",
    "        body = cmd[2]\n",
    "        sigma = solve_cmd(body, sigma)\n",
    "        return solve_cmd(cmd, sigma)\n",
    "    \n",
    "    if op=='deref=':\n",
    "        var = cmd[1]\n",
    "        expr = cmd[2]\n",
    "        mem[int(mem[sigma[var]])] = solve_exp(expr, sigma)\n",
    "        return sigma\n",
    "    \n",
    "    if op=='free':\n",
    "        var = cmd[1]\n",
    "        free(mem[sigma[var]])\n",
    "        mem[sigma[var]] = None\n",
    "        return sigma"
   ]
  },
  {
   "cell_type": "markdown",
   "metadata": {},
   "source": [
    "### Examples of memory addressing (cont'd)\n",
    "\n",
    "Let's evaluate the previous expression while varying (sigma, mem)"
   ]
  },
  {
   "cell_type": "code",
   "execution_count": 21,
   "metadata": {},
   "outputs": [
    {
     "name": "stdout",
     "output_type": "stream",
     "text": [
      "['+', ['variable', 'x'], ['*', ['number_const', 2.0], ['variable', 'y']]]\n"
     ]
    }
   ],
   "source": [
    "parse_exp = get_parser_gexp()\n",
    "    \n",
    "E1 = parse_exp(\"x + 2*y\")\n",
    "print(E1)"
   ]
  },
  {
   "cell_type": "code",
   "execution_count": 22,
   "metadata": {},
   "outputs": [
    {
     "name": "stdout",
     "output_type": "stream",
     "text": [
      "sigma =  {'x': 0, 'y': 1}  mem =  [2, 3, '...']\n",
      "E1 =  8.0\n"
     ]
    }
   ],
   "source": [
    "sigma = { 'x':0, 'y':1 } # sigma maps names to addresses, mem maps addresses to values\n",
    "mem[0] = 2 \n",
    "mem[1] = 3\n",
    "stack_pos = 2 # Next available position on the stack\n",
    "mem_dump(sigma)\n",
    "\n",
    "print('E1 = ', solve_exp(E1, sigma))"
   ]
  },
  {
   "cell_type": "code",
   "execution_count": 23,
   "metadata": {},
   "outputs": [
    {
     "name": "stdout",
     "output_type": "stream",
     "text": [
      "sigma =  {'x': 2, 'y': 1}  mem =  [2, 3, 1, '...']\n",
      "E1 =  7.0\n"
     ]
    }
   ],
   "source": [
    "\"\"\" new address associated to x \"\"\"\n",
    "sigma = { 'x':2, 'y':1 }\n",
    "mem[2] = 1\n",
    "stack_pos += 1\n",
    "mem_dump(sigma)\n",
    "\n",
    "print('E1 = ', solve_exp(E1, sigma))"
   ]
  },
  {
   "cell_type": "code",
   "execution_count": 24,
   "metadata": {},
   "outputs": [
    {
     "name": "stdout",
     "output_type": "stream",
     "text": [
      "sigma =  {'x': 0, 'y': 0}  mem =  [2, '...']\n",
      "E1 =  6.0\n"
     ]
    }
   ],
   "source": [
    "\"\"\" variable may share same address \"\"\"\n",
    "sigma = { 'x':0, 'y':0 }\n",
    "mem[0] = 2\n",
    "stack_pos = 1\n",
    "mem_dump(sigma)\n",
    "\n",
    "print('E1 = ', solve_exp(E1, sigma))"
   ]
  },
  {
   "cell_type": "markdown",
   "metadata": {
    "toc-hr-collapsed": true
   },
   "source": [
    "## Examples: Commands "
   ]
  },
  {
   "cell_type": "markdown",
   "metadata": {},
   "source": [
    "Run the C code at http://pythontutor.com/c.html#mode=edit"
   ]
  },
  {
   "cell_type": "code",
   "execution_count": 25,
   "metadata": {},
   "outputs": [],
   "source": [
    "parse = get_parser_cmd()"
   ]
  },
  {
   "cell_type": "code",
   "execution_count": 26,
   "metadata": {},
   "outputs": [
    {
     "name": "stdout",
     "output_type": "stream",
     "text": [
      "4.0\n",
      "\n",
      "mem_dump:\n",
      "sigma =  {'x': 0, 'y': 1, 'z': 2}  mem =  [2.0, 1.0, 4.0, '...']\n"
     ]
    }
   ],
   "source": [
    "C1 = parse(\"var x; x = 2; var y; y = 1; var z; z = x+2*y; print(z);\")\n",
    "sigma = {}\n",
    "mem_init()\n",
    "sigmares = solve_cmd(C1, sigma)\n",
    "\n",
    "print(\"\\nmem_dump:\")\n",
    "mem_dump(sigmares)\n",
    "\n",
    "c_code = \"\"\" \n",
    "float x;\n",
    "x = 2;\n",
    "float y;\n",
    "y = 1;\n",
    "float z;\n",
    "z = x + 2*y;\n",
    "\"\"\""
   ]
  },
  {
   "cell_type": "code",
   "execution_count": 27,
   "metadata": {},
   "outputs": [
    {
     "name": "stdout",
     "output_type": "stream",
     "text": [
      "4.0\n",
      "\n",
      "mem_dump:\n",
      "sigma =  {}  mem =  ['...']\n"
     ]
    }
   ],
   "source": [
    "C2 = parse(\"{ var x; x = 2; var y; y = 1; var z; z = x+2*y; print(z);}\")\n",
    "mem_init()\n",
    "sigmares = solve_cmd(C2, sigma)\n",
    "\n",
    "print(\"\\nmem_dump:\")\n",
    "mem_dump(sigmares)\n",
    "\n",
    "c_code = \"\"\" \n",
    "{\n",
    "    float x;\n",
    "    x = 2;\n",
    "    float y;\n",
    "    y = 1;\n",
    "    float z;\n",
    "    z = x + 2*y;\n",
    "}\n",
    "\"\"\""
   ]
  },
  {
   "cell_type": "code",
   "execution_count": 28,
   "metadata": {},
   "outputs": [
    {
     "name": "stdout",
     "output_type": "stream",
     "text": [
      "2.0\n",
      "\n",
      "mem_dump:\n",
      "sigma =  {}  mem =  ['...']\n"
     ]
    }
   ],
   "source": [
    "C3 = parse(\"{ var x; x = 2; {var y; y = 1; var z; z = 2*y; print(z);} }\")\n",
    "mem_init()\n",
    "sigmares = solve_cmd(C3, sigma)\n",
    "\n",
    "print(\"\\nmem_dump:\")\n",
    "mem_dump(sigmares)\n",
    "\n",
    "c_code = \"\"\" C-code\n",
    "float x;\n",
    "x = 2;\n",
    "{\n",
    "    float y;\n",
    "    y = 1;\n",
    "    float z;\n",
    "    z = 2*y;\n",
    "}\n",
    "\"\"\""
   ]
  },
  {
   "cell_type": "code",
   "execution_count": 29,
   "metadata": {},
   "outputs": [
    {
     "name": "stdout",
     "output_type": "stream",
     "text": [
      "5.0\n",
      "4.0\n",
      "3.0\n",
      "2.0\n",
      "1.0\n",
      "\n",
      "mem_dump:\n",
      "sigma =  {'i': 0}  mem =  [0.0, '...']\n"
     ]
    }
   ],
   "source": [
    "C4 = parse(\"var i; i=5; while(0<i) { print(i); i = i-1; }\")\n",
    "mem_init()\n",
    "sigmares = solve_cmd(C4, sigma)\n",
    "\n",
    "print(\"\\nmem_dump:\")\n",
    "mem_dump(sigmares)\n",
    "\n",
    "c_code = \"\"\" C-code\n",
    "int i;\n",
    "i = 5;\n",
    "while(0<i)\n",
    "{\n",
    "    printf(\"%d\\n\", i);\n",
    "    i--;\n",
    "}\n",
    "\"\"\""
   ]
  },
  {
   "cell_type": "markdown",
   "metadata": {},
   "source": [
    "### Examples: Pointers (Heap)"
   ]
  },
  {
   "cell_type": "code",
   "execution_count": 30,
   "metadata": {},
   "outputs": [
    {
     "name": "stdout",
     "output_type": "stream",
     "text": [
      "4.0\n",
      "\n",
      "mem_dump:\n",
      "sigma =  {'x': 0, 'y': 1}  mem =  [4.0, 0, '...']\n"
     ]
    }
   ],
   "source": [
    "C5 = parse(\"var x; x=3; var y; y = &x; *y = *y + 1; print(x);\")\n",
    "mem_init()\n",
    "sigmares = solve_cmd(C5, sigma)\n",
    "\n",
    "print(\"\\nmem_dump:\")\n",
    "mem_dump(sigmares)\n",
    "\n",
    "c_code = \"\"\" C-code\n",
    "float x;\n",
    "x = 3;\n",
    "float *y;\n",
    "y = &x;\n",
    "*y = *y + 1;\n",
    "printf(\"%f\\n\", x);\n",
    "\"\"\""
   ]
  },
  {
   "cell_type": "code",
   "execution_count": 31,
   "metadata": {},
   "outputs": [
    {
     "name": "stdout",
     "output_type": "stream",
     "text": [
      "4.0\n",
      "999\n",
      "\n",
      "mem_dump:\n",
      "sigma =  {'x': 0, 'y': 1}  mem =  [3.0, 999, '...', 4.0]\n"
     ]
    }
   ],
   "source": [
    "C6 = parse(\"var x; x=3; var y; y = malloc(1); *y = x + 1; print(*y); print(y); \")\n",
    "mem_init()\n",
    "sigmares = solve_cmd(C6, sigma)\n",
    "\n",
    "print(\"\\nmem_dump:\")\n",
    "mem_dump(sigmares)\n",
    "\n",
    "c_code = \"\"\" C-code\n",
    "float x;\n",
    "x = 3;\n",
    "float *y;\n",
    "y = malloc(sizeof(float));\n",
    "*y = x + 1;\n",
    "printf(\"%f %p\\n\", *y, y);\n",
    "free(y);\n",
    "\"\"\""
   ]
  },
  {
   "cell_type": "code",
   "execution_count": 32,
   "metadata": {},
   "outputs": [
    {
     "name": "stdout",
     "output_type": "stream",
     "text": [
      "sigma =  {'i': 0, 'y': 1, 'x': 2}  mem =  [0.0, 995, 0.0, '...', 1.0, 2.0, 3.0, 4.0, 5.0]\n"
     ]
    }
   ],
   "source": [
    "C7 = parse(\"\"\"\n",
    "    var i; \n",
    "    i=5; \n",
    "    var y; \n",
    "    y = malloc(i); \n",
    "    var x; \n",
    "    x = 5; \n",
    "    while(0<i) \n",
    "    { \n",
    "        i = i-1;\n",
    "        var z;\n",
    "        z = y+i;\n",
    "        *z = x;\n",
    "        x = x-1;\n",
    "    }\"\"\".replace(\"\\n\",\"\"))\n",
    "\n",
    "mem_init()\n",
    "sigmares = solve_cmd(C7, sigma)\n",
    "mem_dump(sigmares)\n",
    "\n",
    "c_code = \"\"\" C-code\n",
    "int i;\n",
    "i = 5;\n",
    "float *y;\n",
    "y = malloc(sizeof(float)*i);\n",
    "float x;\n",
    "x=5;\n",
    "while(0<i)\n",
    "{\n",
    "    i--;\n",
    "    *(y+i) = x;\n",
    "    x--;\n",
    "}\n",
    "\"\"\""
   ]
  }
 ],
 "metadata": {
  "kernelspec": {
   "display_name": "Python 3",
   "language": "python",
   "name": "python3"
  },
  "language_info": {
   "codemirror_mode": {
    "name": "ipython",
    "version": 3
   },
   "file_extension": ".py",
   "mimetype": "text/x-python",
   "name": "python",
   "nbconvert_exporter": "python",
   "pygments_lexer": "ipython3",
   "version": "3.6.6"
  },
  "toc-autonumbering": false,
  "toc-showcode": false,
  "toc-showmarkdowntxt": false
 },
 "nbformat": 4,
 "nbformat_minor": 2
}
