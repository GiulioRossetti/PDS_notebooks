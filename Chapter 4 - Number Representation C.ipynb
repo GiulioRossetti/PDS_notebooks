{
 "cells": [
  {
   "cell_type": "markdown",
   "metadata": {},
   "source": [
    "### Integer Representation in C"
   ]
  },
  {
   "cell_type": "markdown",
   "metadata": {},
   "source": [
    "Example of overflow in a 32 bit architecture"
   ]
  },
  {
   "cell_type": "code",
   "execution_count": 36,
   "metadata": {},
   "outputs": [
    {
     "name": "stdout",
     "output_type": "stream",
     "text": [
      "Size of integer representation (in bit): 4\n",
      "2^30: 1073741824\n",
      "Maximum positive value (32bit): 2147483647\n",
      "2^31: -2147483648\n"
     ]
    }
   ],
   "source": [
    "#include <stdio.h>\n",
    "\n",
    "int main(void){\n",
    "    \n",
    "    printf(\"Size of integer representation (in bit): %ld\\n\", sizeof(int));\n",
    "    \n",
    "    int x = 1 << 30;\n",
    "\n",
    "    printf(\"2^30: %d\\n\", x);\n",
    "    \n",
    "    x += (x - 1);\n",
    "    printf(\"Maximum positive value (32bit): %d\\n\", x);\n",
    "    \n",
    "    x += 1;\n",
    "    printf(\"2^31: %d\\n\", x);\n",
    "    \n",
    "    return 0;\n",
    "}"
   ]
  },
  {
   "cell_type": "code",
   "execution_count": 24,
   "metadata": {},
   "outputs": [],
   "source": []
  },
  {
   "cell_type": "code",
   "execution_count": null,
   "metadata": {},
   "outputs": [],
   "source": []
  }
 ],
 "metadata": {
  "kernelspec": {
   "display_name": "C",
   "language": "c",
   "name": "c"
  },
  "language_info": {
   "file_extension": ".c",
   "mimetype": "text/plain",
   "name": "c"
  }
 },
 "nbformat": 4,
 "nbformat_minor": 2
}
