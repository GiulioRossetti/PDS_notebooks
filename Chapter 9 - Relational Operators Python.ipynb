{
 "cells": [
  {
   "cell_type": "markdown",
   "metadata": {},
   "source": [
    "## Defining a Database in pure Python"
   ]
  },
  {
   "cell_type": "markdown",
   "metadata": {},
   "source": [
    "Design choices:\n",
    "    - a table is a pair (attributes, instance)\n",
    "        - attributes is a list of strings\n",
    "        - instance is a list of rows\n",
    "            - a row is a dictionary mapping attribute name to values"
   ]
  },
  {
   "cell_type": "code",
   "execution_count": 17,
   "metadata": {},
   "outputs": [],
   "source": [
    "import json\n",
    "\n",
    "def save(db, filename):\n",
    "    with open(filename, 'w') as f:\n",
    "        json.dump(db, f, sort_keys = True, indent = 4, ensure_ascii = False)\n",
    "\n",
    "def load(filename):\n",
    "    with open(filename, 'r') as f:\n",
    "        return json.load(f)"
   ]
  },
  {
   "cell_type": "code",
   "execution_count": 1,
   "metadata": {},
   "outputs": [],
   "source": [
    "def create(attributes):\n",
    "    \"\"\" create an empty table with given attributes \"\"\"\n",
    "    return (attributes.copy(), [])"
   ]
  },
  {
   "cell_type": "code",
   "execution_count": 2,
   "metadata": {},
   "outputs": [],
   "source": [
    "def add(table, row):\n",
    "    \"\"\" add a row to the table \"\"\"\n",
    "    (attributes, instance) = table\n",
    "    instance.append(row)"
   ]
  },
  {
   "cell_type": "code",
   "execution_count": 3,
   "metadata": {},
   "outputs": [],
   "source": [
    "def add_copy(table, row):\n",
    "    \"\"\" add a row to the table \"\"\"\n",
    "    (attributes, instance) = table\n",
    "    instance.append(row.copy())"
   ]
  },
  {
   "cell_type": "code",
   "execution_count": 4,
   "metadata": {},
   "outputs": [],
   "source": [
    "def pretty_print(table):\n",
    "    \"\"\" print a table \"\"\"\n",
    "    (attributes, instance) = table\n",
    "    print(','.join(attributes))\n",
    "    for row in instance:\n",
    "        print(','.join([str(row[k]) for k in attributes]))"
   ]
  },
  {
   "cell_type": "code",
   "execution_count": 5,
   "metadata": {},
   "outputs": [],
   "source": [
    "def project(table, atts):\n",
    "    \"\"\" project a table over a list of attributes \"\"\"\n",
    "    (attributes, instance) = table\n",
    "    result = create(atts)\n",
    "    for row in instance:\n",
    "        new_row = { att:row[att]  for att in atts}\n",
    "        add(result, new_row)\n",
    "    return result"
   ]
  },
  {
   "cell_type": "code",
   "execution_count": 6,
   "metadata": {},
   "outputs": [],
   "source": [
    "def select(table, att, value):\n",
    "    \"\"\" select rows for which att==value is true \"\"\"\n",
    "    (attributes, instance) = table\n",
    "    result = create(attributes)\n",
    "    for row in instance:\n",
    "        if row[att] == value:\n",
    "            add_copy(result, row )\n",
    "    return result"
   ]
  },
  {
   "cell_type": "code",
   "execution_count": 7,
   "metadata": {},
   "outputs": [],
   "source": [
    "def select_ext(table, cond):\n",
    "    \"\"\" select rows for which a boolean condition is true \"\"\"\n",
    "    (attributes, instance) = table\n",
    "    result = create(attributes)\n",
    "    for row in instance:\n",
    "        if cond(row):\n",
    "            add_copy(result, row )\n",
    "    return result"
   ]
  },
  {
   "cell_type": "code",
   "execution_count": 8,
   "metadata": {},
   "outputs": [],
   "source": [
    "def sort(table, atts = None):\n",
    "    \"\"\" sort rows according to lexicographic ordering of attributes in atts \"\"\"\n",
    "    (attributes, instance) = table\n",
    "    \"\"\" sorted(x, k) returns a sorted copy of x, \n",
    "            where comparison is made on k(e) for e in x\n",
    "        since comparison between dictionaries is not possibile,\n",
    "            we compare the list of values of a dictionary\n",
    "    \"\"\"\n",
    "    if atts == None:\n",
    "        atts = attributes\n",
    "    sorted_inst = sorted(instance, key = lambda row: [row[k] for k in atts])\n",
    "    return (attributes.copy(), sorted_inst)"
   ]
  },
  {
   "cell_type": "code",
   "execution_count": 9,
   "metadata": {},
   "outputs": [],
   "source": [
    "def distinct(table):\n",
    "    \"\"\" select distinct rows \"\"\"\n",
    "    (attributes, sorted_inst) = sort(table)\n",
    "    result = create(attributes)\n",
    "    previous = None\n",
    "    for row in sorted_inst:\n",
    "        if row != previous:\n",
    "            add_copy(result, row)\n",
    "        previous = row\n",
    "    return result"
   ]
  },
  {
   "cell_type": "code",
   "execution_count": 10,
   "metadata": {},
   "outputs": [],
   "source": [
    "def rename(table, att_a, att_b):\n",
    "    \"\"\" rename an attribute A to B \"\"\"\n",
    "    (attributes, instance) = table\n",
    "    result = create(attributes)\n",
    "    (atts, inst) = result\n",
    "    pos = atts.index(att_a)\n",
    "    atts[pos] = att_b\n",
    "    for row in instance:\n",
    "        row_copy = row.copy()\n",
    "        row_copy[att_b] = row[att_a]\n",
    "        row_copy.pop(att_a) # remove key att_a\n",
    "        add(result, row_copy)\n",
    "    return result"
   ]
  },
  {
   "cell_type": "code",
   "execution_count": 11,
   "metadata": {},
   "outputs": [],
   "source": [
    "def merge_two_dicts(d1, d2):\n",
    "    d = d1.copy()\n",
    "    d.update(d2)\n",
    "    return d"
   ]
  },
  {
   "cell_type": "code",
   "execution_count": 12,
   "metadata": {},
   "outputs": [],
   "source": [
    "def join(table1, table2, atts1, atts2):\n",
    "    \"\"\" nested loop join of two tables on join condition atts1 = atts2 \"\"\"\n",
    "    (attributes1, instance1) = table1\n",
    "    (attributes2, instance2) = table2\n",
    "    result = create(attributes1+attributes2)\n",
    "    for row1 in instance1:\n",
    "        row_p1 = [ row1[att] for att in atts1 ]\n",
    "        for row2 in instance2:\n",
    "            row_p2 = [ row2[att] for att in atts2 ]\n",
    "            if row_p1 == row_p2:\n",
    "                add(result, merge_two_dicts(row1, row2))\n",
    "    return result"
   ]
  },
  {
   "cell_type": "code",
   "execution_count": 13,
   "metadata": {},
   "outputs": [],
   "source": [
    "def group_by(table, atts, count_att):\n",
    "    \"\"\" group by atts -- and aggregate by COUNT(*) \"\"\"\n",
    "    (attributes, sorted_inst) = sort(table, atts)\n",
    "    result = create(atts+[count_att])\n",
    "    previous = None\n",
    "    count = 0\n",
    "    for row in sorted_inst:\n",
    "        row_p = { att:row[att] for att in atts }\n",
    "        if row_p != previous and count > 0:\n",
    "            add(result, merge_two_dicts(previous, { count_att:count }) )\n",
    "            count = 0\n",
    "        previous = row_p\n",
    "        count += 1\n",
    "    if count > 0:\n",
    "        add(result, merge_two_dicts(previous, { count_att:count }) )\n",
    "    return result"
   ]
  },
  {
   "cell_type": "code",
   "execution_count": 14,
   "metadata": {},
   "outputs": [],
   "source": [
    "def union_all(table1, table2):\n",
    "    \"\"\" union of two tables, whose schema are the same \"\"\"\n",
    "    (attributes1, instance1) = table1\n",
    "    (attributes2, instance2) = table2\n",
    "    return (attributes1.copy(), instance1 + instance2)"
   ]
  },
  {
   "cell_type": "code",
   "execution_count": 15,
   "metadata": {},
   "outputs": [],
   "source": [
    "def intersect_all(table1, table2):\n",
    "    \"\"\" intersection of two tables, whose schema are the same \"\"\"\n",
    "    (attributes1, sorted_inst1) = sort(table1)\n",
    "    (attributes2, sorted_inst2) = sort(table2)\n",
    "    result = create(attributes1)\n",
    "    result = []\n",
    "    n1 = len(sorted_inst1)\n",
    "    pos1 = 0\n",
    "    n2 = len(sorted_inst2)\n",
    "    pos2 = 0\n",
    "    while pos1 < n1 and pos2 < n2:\n",
    "        row1 = sorted_inst1[pos1]\n",
    "        row2 = sorted_inst2[pos2]\n",
    "        row1_l = [ row1[k] for k in attributes1 ]\n",
    "        row2_l = [ row2[k] for k in attributes2 ]\n",
    "        if row1_l > row2_l:\n",
    "            pos2 += 1\n",
    "        elif row1_l < row2_l:\n",
    "            pos1 += 1\n",
    "        else:\n",
    "            add(result, row1)\n",
    "            pos1 += 1\n",
    "            pos2 += 1\n",
    "    return result"
   ]
  },
  {
   "cell_type": "code",
   "execution_count": 16,
   "metadata": {},
   "outputs": [],
   "source": [
    "def difference_all(table1, table2):\n",
    "    \"\"\" difference of two tables, whose schema are the same \"\"\"\n",
    "    (attributes1, sorted_inst1) = sort(table1)\n",
    "    (attributes2, sorted_inst2) = sort(table2)\n",
    "    result = create(attributes1)\n",
    "    n1 = len(sorted_inst1)\n",
    "    pos1 = 0\n",
    "    n2 = len(sorted_inst2)\n",
    "    pos2 = 0\n",
    "    while pos1 < n1 and pos2 < n2:\n",
    "        row1 = sorted_inst1[pos1]\n",
    "        row2 = sorted_inst2[pos2]\n",
    "        row1_l = [ row1[k] for k in attributes1 ]\n",
    "        row2_l = [ row2[k] for k in attributes2 ]\n",
    "        if row1_l > row2_l:\n",
    "            pos2 += 1\n",
    "        elif row1_l == row2_l:\n",
    "            pos1 += 1\n",
    "            pos2 += 1\n",
    "        else:\n",
    "            add(result, row1)\n",
    "            pos1 += 1\n",
    "    while pos1 < n1:\n",
    "        row1 = sorted_inst1[pos1]\n",
    "        add(result, row1)\n",
    "        pos1 += 1\n",
    "    return result"
   ]
  },
  {
   "cell_type": "markdown",
   "metadata": {},
   "source": [
    "## Examples\n",
    "### Table definition, select, project, distinct, group by, rename"
   ]
  },
  {
   "cell_type": "code",
   "execution_count": 21,
   "metadata": {},
   "outputs": [
    {
     "name": "stdout",
     "output_type": "stream",
     "text": [
      "Name,StudCode,City,BirthYear\n",
      "Isaia,171523,PI,1982\n",
      "Isaia,171523,PI,1982\n",
      "Rossi,167459,LU,1980\n",
      "Bianchi,179856,LI,1981\n",
      "Bonini,175649,PI,1982\n"
     ]
    }
   ],
   "source": [
    "students = create([ 'Name', 'StudCode', 'City', 'BirthYear' ])\n",
    "add(students, { 'Name':'Isaia', 'StudCode':171523, 'City':'PI', 'BirthYear':1982 } )\n",
    "add(students, { 'Name':'Isaia', 'StudCode':171523, 'City':'PI', 'BirthYear':1982 } )\n",
    "add(students, { 'Name':'Rossi', 'StudCode':167459, 'City':'LU', 'BirthYear':1980 } )\n",
    "add(students, { 'Name':'Bianchi', 'StudCode':179856, 'City':'LI', 'BirthYear':1981 } )\n",
    "add(students, { 'Name':'Bonini', 'StudCode':175649, 'City':'PI', 'BirthYear':1982 } )\n",
    "pretty_print(students)"
   ]
  },
  {
   "cell_type": "code",
   "execution_count": 37,
   "metadata": {},
   "outputs": [
    {
     "name": "stdout",
     "output_type": "stream",
     "text": [
      "Name,StudCode,City,BirthYear\n",
      "Isaia,171523,PI,1982\n",
      "Isaia,171523,PI,1982\n",
      "Bonini,175649,PI,1982\n"
     ]
    }
   ],
   "source": [
    "pretty_print(select(students, 'City', 'PI') )"
   ]
  },
  {
   "cell_type": "code",
   "execution_count": 38,
   "metadata": {},
   "outputs": [
    {
     "name": "stdout",
     "output_type": "stream",
     "text": [
      "Name,City\n",
      "Isaia,PI\n",
      "Isaia,PI\n",
      "Bonini,PI\n"
     ]
    }
   ],
   "source": [
    "pretty_print(project(select(students, 'City', 'PI'), ['Name', 'City'] ) )"
   ]
  },
  {
   "cell_type": "code",
   "execution_count": 20,
   "metadata": {},
   "outputs": [
    {
     "name": "stdout",
     "output_type": "stream",
     "text": [
      "Name,City\n",
      "Bonini,PI\n",
      "Isaia,PI\n"
     ]
    }
   ],
   "source": [
    "q1 = distinct( project( select(students, 'City', 'PI'), ['Name', 'City'] ) )\n",
    "pretty_print(q1)"
   ]
  },
  {
   "cell_type": "code",
   "execution_count": 22,
   "metadata": {},
   "outputs": [
    {
     "name": "stdout",
     "output_type": "stream",
     "text": [
      "Name,City\n",
      "Bonini,PI\n",
      "Isaia,PI\n",
      "Rossi,LU\n"
     ]
    }
   ],
   "source": [
    "q2 = distinct( project( \n",
    "    select_ext(students, lambda row: row['City']=='PI' or row['StudCode']%2 == 1), ['Name', 'City'] ) )\n",
    "pretty_print(q2)"
   ]
  },
  {
   "cell_type": "code",
   "execution_count": 23,
   "metadata": {},
   "outputs": [
    {
     "name": "stdout",
     "output_type": "stream",
     "text": [
      "BirthYear,N\n",
      "1980,1\n",
      "1981,1\n",
      "1982,3\n"
     ]
    }
   ],
   "source": [
    "q3 = group_by(students, ['BirthYear'], 'N')\n",
    "pretty_print(q3)"
   ]
  },
  {
   "cell_type": "code",
   "execution_count": 24,
   "metadata": {},
   "outputs": [
    {
     "name": "stdout",
     "output_type": "stream",
     "text": [
      "Year of Birth,N\n",
      "1980,1\n",
      "1981,1\n",
      "1982,3\n"
     ]
    }
   ],
   "source": [
    "q4 = rename(q3, 'BirthYear', 'Year of Birth')\n",
    "pretty_print(q4)"
   ]
  },
  {
   "cell_type": "markdown",
   "metadata": {},
   "source": [
    "### Join, Union and difference of tables"
   ]
  },
  {
   "cell_type": "code",
   "execution_count": 25,
   "metadata": {},
   "outputs": [
    {
     "name": "stdout",
     "output_type": "stream",
     "text": [
      "Subject,Candidate,Grade,Date\n",
      "BD,171523,20,12/01/05\n",
      "ALG,167459,30,15/09/05\n",
      "MP,171523,30,25/10/05\n",
      "IS,167459,20,10/10/05\n"
     ]
    }
   ],
   "source": [
    "exams = create([ 'Subject', 'Candidate', 'Grade', 'Date' ])\n",
    "add(exams, { 'Subject':'BD', 'Candidate':171523, 'Grade':20, 'Date':'12/01/05' } )\n",
    "add(exams, { 'Subject':'ALG', 'Candidate':167459, 'Grade':30, 'Date':'15/09/05' } )\n",
    "add(exams, { 'Subject':'MP', 'Candidate':171523, 'Grade':30, 'Date':'25/10/05' } )\n",
    "add(exams, { 'Subject':'IS', 'Candidate':167459, 'Grade':20, 'Date':'10/10/05' } )\n",
    "pretty_print(exams)"
   ]
  },
  {
   "cell_type": "code",
   "execution_count": 26,
   "metadata": {},
   "outputs": [
    {
     "name": "stdout",
     "output_type": "stream",
     "text": [
      "Name,StudCode,City,BirthYear,Subject,Candidate,Grade,Date\n",
      "Isaia,171523,PI,1982,BD,171523,20,12/01/05\n",
      "Isaia,171523,PI,1982,MP,171523,30,25/10/05\n",
      "Isaia,171523,PI,1982,BD,171523,20,12/01/05\n",
      "Isaia,171523,PI,1982,MP,171523,30,25/10/05\n",
      "Rossi,167459,LU,1980,ALG,167459,30,15/09/05\n",
      "Rossi,167459,LU,1980,IS,167459,20,10/10/05\n"
     ]
    }
   ],
   "source": [
    "q5 = join(students, exams, ['StudCode'], ['Candidate'])\n",
    "pretty_print(q5)"
   ]
  },
  {
   "cell_type": "code",
   "execution_count": 27,
   "metadata": {},
   "outputs": [
    {
     "name": "stdout",
     "output_type": "stream",
     "text": [
      "Name,StudCode,City,BirthYear\n",
      "Isaia,171523,PI,1982\n",
      "Isaia,171523,PI,1982\n",
      "Rossi,167459,LU,1980\n",
      "Bianchi,179856,LI,1981\n",
      "Bonini,175649,PI,1982\n",
      "Isaia,171523,PI,1982\n",
      "Isaia,171523,PI,1982\n",
      "Rossi,167459,LU,1980\n",
      "Bianchi,179856,LI,1981\n",
      "Bonini,175649,PI,1982\n"
     ]
    }
   ],
   "source": [
    "q6 = union_all(students, students)\n",
    "pretty_print(q6)"
   ]
  },
  {
   "cell_type": "code",
   "execution_count": 29,
   "metadata": {},
   "outputs": [
    {
     "name": "stdout",
     "output_type": "stream",
     "text": [
      "Name,StudCode,City,BirthYear\n",
      "Bianchi,179856,LI,1981\n",
      "Bonini,175649,PI,1982\n",
      "Isaia,171523,PI,1982\n",
      "Isaia,171523,PI,1982\n",
      "Rossi,167459,LU,1980\n"
     ]
    }
   ],
   "source": [
    "q7 = difference_all(q6, students)\n",
    "pretty_print(q7)"
   ]
  },
  {
   "cell_type": "markdown",
   "metadata": {},
   "source": [
    "### Saving and Loading the DB in Json Format"
   ]
  },
  {
   "cell_type": "code",
   "execution_count": 31,
   "metadata": {},
   "outputs": [
    {
     "name": "stdout",
     "output_type": "stream",
     "text": [
      "Subject,Candidate,Grade,Date\n",
      "BD,171523,20,12/01/05\n",
      "ALG,167459,30,15/09/05\n",
      "MP,171523,30,25/10/05\n",
      "IS,167459,20,10/10/05\n"
     ]
    }
   ],
   "source": [
    "database = { 'students':students, 'exams':exams}\n",
    "pretty_print(database['exams'])"
   ]
  },
  {
   "cell_type": "code",
   "execution_count": 34,
   "metadata": {},
   "outputs": [],
   "source": [
    "save(database, 'data/db.json')"
   ]
  },
  {
   "cell_type": "code",
   "execution_count": 36,
   "metadata": {},
   "outputs": [
    {
     "name": "stdout",
     "output_type": "stream",
     "text": [
      "Subject,Candidate,Grade,Date\n",
      "BD,171523,20,12/01/05\n",
      "ALG,167459,30,15/09/05\n",
      "MP,171523,30,25/10/05\n",
      "IS,167459,20,10/10/05\n"
     ]
    }
   ],
   "source": [
    "db2 = load('data/db.json')\n",
    "pretty_print(db2['exams'])"
   ]
  },
  {
   "cell_type": "code",
   "execution_count": null,
   "metadata": {},
   "outputs": [],
   "source": []
  }
 ],
 "metadata": {
  "kernelspec": {
   "display_name": "Python 3",
   "language": "python",
   "name": "python3"
  },
  "language_info": {
   "codemirror_mode": {
    "name": "ipython",
    "version": 3
   },
   "file_extension": ".py",
   "mimetype": "text/x-python",
   "name": "python",
   "nbconvert_exporter": "python",
   "pygments_lexer": "ipython3",
   "version": "3.6.6"
  }
 },
 "nbformat": 4,
 "nbformat_minor": 2
}
