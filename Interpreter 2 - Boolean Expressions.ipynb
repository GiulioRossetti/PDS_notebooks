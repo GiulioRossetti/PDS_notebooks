{
 "cells": [
  {
   "cell_type": "markdown",
   "metadata": {},
   "source": [
    "## Interpteter for Boolean Expressions\n",
    "\n",
    "Install the lark-parser with\n",
    "\n",
    "> pip install lark-parser \n",
    "\n",
    "### Grammar"
   ]
  },
  {
   "cell_type": "code",
   "execution_count": 1,
   "metadata": {},
   "outputs": [],
   "source": [
    "from lark import Lark, InlineTransformer \n",
    "\n",
    "grammar_boolexp = \"\"\"\n",
    "    ?start: boolexp\n",
    "    ?boolexp: booland\n",
    "        | boolexp \"or\" booland -> orop\n",
    "    ?booland: boolatom\n",
    "        | booland \"and\" boolatom -> andop\n",
    "    ?boolatom: \"True\"       -> true\n",
    "        | \"False\"           -> false\n",
    "        | \"not\" boolatom    -> notop\n",
    "        | NAME             -> var\n",
    "        | \"(\" boolexp \")\"\n",
    "    %import common.CNAME -> NAME\n",
    "    %import common.WS_INLINE\n",
    "    %ignore WS_INLINE\n",
    "\"\"\""
   ]
  },
  {
   "cell_type": "markdown",
   "metadata": {},
   "source": [
    "### Parser\n",
    "Implementing the functions described by grammar productions"
   ]
  },
  {
   "cell_type": "code",
   "execution_count": 2,
   "metadata": {},
   "outputs": [],
   "source": [
    "class Tree_BoolExp(InlineTransformer):\n",
    "\n",
    "    def var(self, name):\n",
    "        return ['variable', str(name)]\n",
    "\n",
    "    def false(self):\n",
    "        return ['bool_const', False]\n",
    "    \n",
    "    def true(bool_const):\n",
    "        return ['bool_const', True]\n",
    "    \n",
    "    def orop(self, left, right):\n",
    "        return ['or', left, right]\n",
    "    \n",
    "    def andop(self, left, right):\n",
    "        return ['and', left, right]\n",
    "\n",
    "    def notop(self, value):\n",
    "        return ['not', value]"
   ]
  },
  {
   "cell_type": "markdown",
   "metadata": {},
   "source": [
    "Building the parser using the defined AST representation"
   ]
  },
  {
   "cell_type": "code",
   "execution_count": 3,
   "metadata": {},
   "outputs": [],
   "source": [
    "def get_parser_boolexp():\n",
    "    parser = Lark(grammar_boolexp, parser='lalr', transformer=Tree_BoolExp())\n",
    "    return parser.parse"
   ]
  },
  {
   "cell_type": "markdown",
   "metadata": {},
   "source": [
    "Example of usage"
   ]
  },
  {
   "cell_type": "code",
   "execution_count": 11,
   "metadata": {},
   "outputs": [
    {
     "data": {
      "text/plain": [
       "['or', ['bool_const', True], ['bool_const', False]]"
      ]
     },
     "execution_count": 11,
     "metadata": {},
     "output_type": "execute_result"
    }
   ],
   "source": [
    "parse = get_parser_boolexp()\n",
    "B1 = parse(\"True or False\")\n",
    "B1"
   ]
  },
  {
   "cell_type": "code",
   "execution_count": 8,
   "metadata": {},
   "outputs": [
    {
     "data": {
      "text/plain": [
       "['and',\n",
       " ['or', ['variable', 'x'], ['variable', 'y']],\n",
       " ['not', ['bool_const', False]]]"
      ]
     },
     "execution_count": 8,
     "metadata": {},
     "output_type": "execute_result"
    }
   ],
   "source": [
    "B2 = parse(\"(x or y) and not False\")\n",
    "B2"
   ]
  },
  {
   "cell_type": "code",
   "execution_count": 10,
   "metadata": {},
   "outputs": [
    {
     "data": {
      "text/plain": [
       "['and',\n",
       " ['not', ['or', ['variable', 'x'], ['variable', 'y']]],\n",
       " ['variable', 'z']]"
      ]
     },
     "execution_count": 10,
     "metadata": {},
     "output_type": "execute_result"
    }
   ],
   "source": [
    "B3 = parse(\"not (x or y) and z\")\n",
    "B3"
   ]
  },
  {
   "cell_type": "markdown",
   "metadata": {},
   "source": [
    "### Interpreter\n",
    "\n",
    "- Objective: define solve_bool(E, sigma)\n",
    "\n",
    "How to get to a function that given an AST and a sigma evaluate the Boolean Expression in sigma?"
   ]
  },
  {
   "cell_type": "code",
   "execution_count": 12,
   "metadata": {},
   "outputs": [],
   "source": [
    "def solve_bool(exp, sigma):\n",
    "    op = exp[0]\n",
    "    if op=='bool_const':\n",
    "        return exp[1]\n",
    "    if op=='variable':\n",
    "        return sigma[exp[1]]\n",
    "    if op=='or':\n",
    "        \"\"\" lazy evaluation - default in Python \"\"\"\n",
    "        return solve_bool(exp[1], sigma) or solve_bool(exp[2], sigma)\n",
    "        \"\"\" Eager evaluation \n",
    "        left = solve_bool(exp[1], sigma)\n",
    "        right = solve_bool(exp[2], sigma)\n",
    "        return left or right\n",
    "        \"\"\"\n",
    "    if op=='and':\n",
    "        \"\"\" lazy evaluation - default in Python \"\"\"\n",
    "        return solve_bool(exp[1], sigma) and solve_bool(exp[2], sigma)\n",
    "        \"\"\" Eager evaluation \n",
    "        left = solve_bool(exp[1], sigma)\n",
    "        right = solve_bool(exp[2], sigma)\n",
    "        return left and right\n",
    "        \"\"\"\n",
    "    if op=='not':\n",
    "        return not solve_bool(exp[1], sigma)"
   ]
  },
  {
   "cell_type": "markdown",
   "metadata": {},
   "source": [
    "Evaluation Examples"
   ]
  },
  {
   "cell_type": "code",
   "execution_count": 13,
   "metadata": {},
   "outputs": [
    {
     "name": "stdout",
     "output_type": "stream",
     "text": [
      "B1 =  True\n"
     ]
    }
   ],
   "source": [
    "sigma = {} # empty interpretation\n",
    "print('B1 = ', solve_bool(B1, sigma))"
   ]
  },
  {
   "cell_type": "code",
   "execution_count": 14,
   "metadata": {},
   "outputs": [
    {
     "name": "stdout",
     "output_type": "stream",
     "text": [
      "B2 =  True\n"
     ]
    }
   ],
   "source": [
    "sigma = { 'x':False, 'y':True }\n",
    "print('B2 = ', solve_bool(B2, sigma))"
   ]
  },
  {
   "cell_type": "code",
   "execution_count": 15,
   "metadata": {},
   "outputs": [
    {
     "name": "stdout",
     "output_type": "stream",
     "text": [
      "B3 =  False\n"
     ]
    }
   ],
   "source": [
    "sigma = { 'x':False, 'y':True, 'z':False }\n",
    "print('B3 = ', solve_bool(B3, sigma))"
   ]
  }
 ],
 "metadata": {
  "kernelspec": {
   "display_name": "Python 3",
   "language": "python",
   "name": "python3"
  },
  "language_info": {
   "codemirror_mode": {
    "name": "ipython",
    "version": 3
   },
   "file_extension": ".py",
   "mimetype": "text/x-python",
   "name": "python",
   "nbconvert_exporter": "python",
   "pygments_lexer": "ipython3",
   "version": "3.6.6"
  }
 },
 "nbformat": 4,
 "nbformat_minor": 2
}
