{
 "cells": [
  {
   "cell_type": "markdown",
   "metadata": {},
   "source": [
    "## Interpteter for both Boolean and numeric Expression\n",
    "\n",
    "Install the lark-parser with\n",
    "\n",
    "> pip install lark-parser \n",
    "\n",
    "### Grammar"
   ]
  },
  {
   "cell_type": "code",
   "execution_count": 22,
   "metadata": {},
   "outputs": [],
   "source": [
    "from lark import Lark, InlineTransformer \n",
    "\n",
    "\n",
    "\"\"\" gexp is boolexp grammar on top of exp grammar: \n",
    "    numeric operators have higher precedence than boolean operators.\n",
    "\"\"\"\n",
    "grammar_gexp = \"\"\"\n",
    "    ?start: boolexp\n",
    "    ?boolexp: booland\n",
    "        | boolexp \"or\" booland -> orop\n",
    "    ?booland: boolnot\n",
    "        | booland \"and\" boolnot -> andop\n",
    "    ?boolnot: boolcmp\n",
    "        | \"not\" boolnot     -> notop\n",
    "    ?boolcmp: expcmp\n",
    "        | boolcmp \"==\" expcmp -> eq\n",
    "    ?expcmp: exp\n",
    "        | expcmp \"<=\" exp      -> lte\n",
    "        | expcmp \"<\" exp       -> lt\n",
    "    ?exp: product\n",
    "        | exp \"+\" product   -> add\n",
    "        | exp \"-\" product   -> sub\n",
    "    ?product: atom\n",
    "        | product \"*\" atom  -> mul\n",
    "        | product \"/\" atom  -> div\n",
    "    ?atom: NUMBER           -> number\n",
    "         | \"-\" atom         -> neg\n",
    "         | \"True\"           -> true\n",
    "         | \"False\"          -> false\n",
    "         | NAME             -> var\n",
    "         | \"(\" boolexp \")\"\n",
    "    %import common.CNAME -> NAME\n",
    "    %import common.NUMBER\n",
    "    %import common.WS_INLINE\n",
    "    %ignore WS_INLINE\n",
    "\"\"\""
   ]
  },
  {
   "cell_type": "markdown",
   "metadata": {},
   "source": [
    "### Parser\n",
    "Implementing the functions described by grammar productions"
   ]
  },
  {
   "cell_type": "code",
   "execution_count": 23,
   "metadata": {},
   "outputs": [],
   "source": [
    "class Tree_GExp(InlineTransformer):\n",
    "    number = float\n",
    "\n",
    "    def var(self, name):\n",
    "        return ['variable', str(name)]\n",
    "    \n",
    "    def false(self):\n",
    "        return ['bool_const', False]\n",
    "    \n",
    "    def true(bool_const):\n",
    "        return ['bool_const', True]\n",
    "    \n",
    "    def orop(self, left, right):\n",
    "        return ['or', left, right]\n",
    "    \n",
    "    def andop(self, left, right):\n",
    "        return ['and', left, right]\n",
    "\n",
    "    def notop(self, value):\n",
    "        return ['not', value]\n",
    "\n",
    "    def lte(self, left, right):\n",
    "        return ['<=', left, right]\n",
    "\n",
    "    def lt(self, left, right):\n",
    "        return ['<', left, right]\n",
    "\n",
    "    def eq(self, left, right):\n",
    "        return ['==', left, right]\n",
    "\n",
    "    def number(self, value):\n",
    "        return ['number_const', float(value)]\n",
    "\n",
    "    def add(self, left, right):\n",
    "        return ['+', left, right]\n",
    "    \n",
    "    def sub(self, left, right):\n",
    "        return ['-', left, right]\n",
    "    \n",
    "    def mul(self, left, right):\n",
    "        return ['*', left, right]\n",
    "    \n",
    "    def div(self, left, right):\n",
    "        return ['/', left, right]\n",
    "    \n",
    "    def neg(self, left):\n",
    "        return ['-', left]"
   ]
  },
  {
   "cell_type": "code",
   "execution_count": 24,
   "metadata": {},
   "outputs": [],
   "source": [
    "def get_parser_gexp():\n",
    "    parser = Lark(grammar_gexp, parser='lalr', transformer=Tree_GExp())\n",
    "    return parser.parse"
   ]
  },
  {
   "cell_type": "code",
   "execution_count": 25,
   "metadata": {},
   "outputs": [
    {
     "data": {
      "text/plain": [
       "['<=', ['number_const', 3.0], ['number_const', 5.0]]"
      ]
     },
     "execution_count": 25,
     "metadata": {},
     "output_type": "execute_result"
    }
   ],
   "source": [
    "parse = get_parser_gexp()\n",
    "    \n",
    "E1 = parse(\"3 <= 5\")\n",
    "E1"
   ]
  },
  {
   "cell_type": "code",
   "execution_count": 26,
   "metadata": {},
   "outputs": [
    {
     "data": {
      "text/plain": [
       "['or',\n",
       " ['<', ['variable', 'x'], ['number_const', 2.0]],\n",
       " ['<=',\n",
       "  ['number_const', 3.0],\n",
       "  ['+', ['variable', 'y'], ['number_const', 2.0]]]]"
      ]
     },
     "execution_count": 26,
     "metadata": {},
     "output_type": "execute_result"
    }
   ],
   "source": [
    "E2 = parse(\"x < 2 or 3 <= y+2\")\n",
    "E2"
   ]
  },
  {
   "cell_type": "code",
   "execution_count": 27,
   "metadata": {},
   "outputs": [
    {
     "data": {
      "text/plain": [
       "['==', ['bool_const', False], ['bool_const', True]]"
      ]
     },
     "execution_count": 27,
     "metadata": {},
     "output_type": "execute_result"
    }
   ],
   "source": [
    "E3 = parse(\"False == True\")\n",
    "E3"
   ]
  },
  {
   "cell_type": "code",
   "execution_count": 28,
   "metadata": {},
   "outputs": [
    {
     "data": {
      "text/plain": [
       "['==',\n",
       " ['<', ['number_const', 3.0], ['number_const', 4.0]],\n",
       " ['<', ['number_const', 2.0], ['number_const', 3.0]]]"
      ]
     },
     "execution_count": 28,
     "metadata": {},
     "output_type": "execute_result"
    }
   ],
   "source": [
    "E4 = parse(\"3<4 == 2<3\") # C semantics (not Python!)\n",
    "E4"
   ]
  },
  {
   "cell_type": "code",
   "execution_count": 29,
   "metadata": {},
   "outputs": [
    {
     "data": {
      "text/plain": [
       "['or', ['number_const', 5.0], ['number_const', 4.0]]"
      ]
     },
     "execution_count": 29,
     "metadata": {},
     "output_type": "execute_result"
    }
   ],
   "source": [
    "E5 = parse(\"5 or 4\") # C semantics (not Python!)\n",
    "E5"
   ]
  },
  {
   "cell_type": "markdown",
   "metadata": {},
   "source": [
    "### Interpreter\n",
    "\n",
    "- Objective: define solve_exp(E, sigma)\n",
    "\n",
    "How to get to a function that given an AST and a sigma evaluate the Expression in sigma?"
   ]
  },
  {
   "cell_type": "code",
   "execution_count": 30,
   "metadata": {},
   "outputs": [],
   "source": [
    "def solve_exp(exp, sigma):\n",
    "    op = exp[0]\n",
    "    \"\"\" Algebra of numbers \"\"\"\n",
    "    if op=='number_const':\n",
    "        return exp[1]\n",
    "    if op=='variable':\n",
    "        return sigma[exp[1]]\n",
    "    if op=='+':\n",
    "        return solve_exp(exp[1], sigma) + solve_exp(exp[2], sigma)\n",
    "    if op=='-' and len(exp)==3:\n",
    "        return solve_exp(exp[1], sigma) - solve_exp(exp[2], sigma)\n",
    "    if op=='-' and len(exp)==2:\n",
    "        return -solve_exp(exp[1], sigma)\n",
    "    if op=='*':\n",
    "        return solve_exp(exp[1], sigma) * solve_exp(exp[2], sigma)\n",
    "    if op=='/':\n",
    "        return solve_exp(exp[1], sigma) / solve_exp(exp[2], sigma)\n",
    "    \"\"\" Algebra of Booleans \"\"\"\n",
    "    if op=='bool_const':\n",
    "        return exp[1]\n",
    "    if op=='or':\n",
    "        return bool(solve_exp(exp[1], sigma)) or bool(solve_exp(exp[2], sigma))\n",
    "    if op=='and':\n",
    "        return bool(solve_exp(exp[1], sigma)) and bool(solve_exp(exp[2], sigma))\n",
    "    if op=='not':\n",
    "        return not solve_exp(exp[1], sigma)\n",
    "    if op=='==':\n",
    "        return solve_exp(exp[1], sigma) == solve_exp(exp[2], sigma)\n",
    "    if op=='<=':\n",
    "        return solve_exp(exp[1], sigma) <= solve_exp(exp[2], sigma)\n",
    "    if op=='<':\n",
    "        return solve_exp(exp[1], sigma) < solve_exp(exp[2], sigma)"
   ]
  },
  {
   "cell_type": "code",
   "execution_count": 31,
   "metadata": {},
   "outputs": [
    {
     "name": "stdout",
     "output_type": "stream",
     "text": [
      "E1 =  True\n"
     ]
    }
   ],
   "source": [
    "sigma = {} # empty interpretation\n",
    "print('E1 = ', solve_exp(E1, sigma))"
   ]
  },
  {
   "cell_type": "code",
   "execution_count": 32,
   "metadata": {},
   "outputs": [
    {
     "name": "stdout",
     "output_type": "stream",
     "text": [
      "E2 =  True\n"
     ]
    }
   ],
   "source": [
    "sigma = { 'x':2, 'y':1 }\n",
    "print('E2 = ', solve_exp(E2, sigma))"
   ]
  },
  {
   "cell_type": "code",
   "execution_count": 33,
   "metadata": {},
   "outputs": [
    {
     "name": "stdout",
     "output_type": "stream",
     "text": [
      "E3 =  False\n"
     ]
    }
   ],
   "source": [
    "sigma = {} # empty interpretation\n",
    "print('E3 = ', solve_exp(E3, sigma))"
   ]
  },
  {
   "cell_type": "code",
   "execution_count": 34,
   "metadata": {},
   "outputs": [
    {
     "name": "stdout",
     "output_type": "stream",
     "text": [
      "E4 =  True\n"
     ]
    }
   ],
   "source": [
    "print('E4 = ', solve_exp(E4, sigma))"
   ]
  },
  {
   "cell_type": "code",
   "execution_count": 35,
   "metadata": {},
   "outputs": [
    {
     "name": "stdout",
     "output_type": "stream",
     "text": [
      "E5 =  True\n"
     ]
    }
   ],
   "source": [
    "print('E5 = ', solve_exp(E5, sigma))"
   ]
  },
  {
   "cell_type": "markdown",
   "metadata": {},
   "source": [
    "### Type Checking (C like): static semantics\n",
    "- Objective: ensure that Boolean and Numeric Expressions are applied on homogeneous types"
   ]
  },
  {
   "cell_type": "code",
   "execution_count": 36,
   "metadata": {},
   "outputs": [],
   "source": [
    "def type_check(exp, iota):\n",
    "    op = exp[0]\n",
    "    \n",
    "    \"\"\" Algebra of numbers \"\"\"\n",
    "    if op=='number_const':\n",
    "        return 'number'\n",
    "    if op=='variable':\n",
    "        return iota[exp[1]]\n",
    "    if op=='+' or op=='-' or op=='*' or op=='/':\n",
    "        type_left = type_check(exp[1], iota)\n",
    "        if type_left != 'number':\n",
    "            raise Exception(\"Expected: number Actual: \" + type_left + \" in expr: \", exp[1])\n",
    "        if len(exp)==3:\n",
    "            type_right = type_check(exp[2], iota)\n",
    "            if type_right != 'number':\n",
    "                raise Exception(\"Expected: number Actual: \" + type_right +\" in expr: \", exp[2])\n",
    "        return 'number'\n",
    "    \n",
    "    \"\"\" Algebra of Booleans \"\"\"\n",
    "    if op=='bool_const':\n",
    "        return 'bool'\n",
    "    if op=='not' or op=='and' or op=='or':\n",
    "        type_left = type_check(exp[1], iota)\n",
    "        if type_left != 'bool':\n",
    "            raise Exception(\"Expected: bool Actual: \" + type_left + \" in expr: \", exp[1])\n",
    "        if len(exp)==3:\n",
    "            type_right = type_check(exp[2], iota)\n",
    "            if type_right != 'bool':\n",
    "                raise Exception(\"Expected: bool Actual: \" + type_right +\" in expr: \", exp[2])\n",
    "        return 'bool'\n",
    "    if op=='==' or op=='<=' or op=='<':\n",
    "        type_left = type_check(exp[1], iota)\n",
    "        type_right = type_check(exp[2], iota)\n",
    "        if type_left != type_right:\n",
    "            raise Exception(\"Expected: \" + type_left + \" Actual: \" + type_right +\" in expr: \", exp[2])\n",
    "        return 'bool'"
   ]
  },
  {
   "cell_type": "code",
   "execution_count": 37,
   "metadata": {},
   "outputs": [
    {
     "name": "stdout",
     "output_type": "stream",
     "text": [
      "type_check(E2) =  bool\n"
     ]
    }
   ],
   "source": [
    "iota = { 'x':'number', 'y':'number' }\n",
    "print('type_check(E2) = ', type_check(E2, iota))"
   ]
  },
  {
   "cell_type": "code",
   "execution_count": 38,
   "metadata": {},
   "outputs": [
    {
     "ename": "Exception",
     "evalue": "('Expected: bool Actual: number in expr: ', ['number_const', 5.0])",
     "output_type": "error",
     "traceback": [
      "\u001b[0;31m---------------------------------------------------------------------------\u001b[0m",
      "\u001b[0;31mException\u001b[0m                                 Traceback (most recent call last)",
      "\u001b[0;32m<ipython-input-38-61bf9dc93e4f>\u001b[0m in \u001b[0;36m<module>\u001b[0;34m()\u001b[0m\n\u001b[1;32m      1\u001b[0m \u001b[0miota\u001b[0m \u001b[0;34m=\u001b[0m \u001b[0;34m{\u001b[0m \u001b[0;34m}\u001b[0m\u001b[0;34m\u001b[0m\u001b[0m\n\u001b[0;32m----> 2\u001b[0;31m \u001b[0mprint\u001b[0m\u001b[0;34m(\u001b[0m\u001b[0;34m'type_check(E5) = '\u001b[0m\u001b[0;34m,\u001b[0m \u001b[0mtype_check\u001b[0m\u001b[0;34m(\u001b[0m\u001b[0mE5\u001b[0m\u001b[0;34m,\u001b[0m \u001b[0miota\u001b[0m\u001b[0;34m)\u001b[0m\u001b[0;34m)\u001b[0m\u001b[0;34m\u001b[0m\u001b[0m\n\u001b[0m",
      "\u001b[0;32m<ipython-input-36-24a3cd93e17c>\u001b[0m in \u001b[0;36mtype_check\u001b[0;34m(exp, iota)\u001b[0m\n\u001b[1;32m     23\u001b[0m         \u001b[0mtype_left\u001b[0m \u001b[0;34m=\u001b[0m \u001b[0mtype_check\u001b[0m\u001b[0;34m(\u001b[0m\u001b[0mexp\u001b[0m\u001b[0;34m[\u001b[0m\u001b[0;36m1\u001b[0m\u001b[0;34m]\u001b[0m\u001b[0;34m,\u001b[0m \u001b[0miota\u001b[0m\u001b[0;34m)\u001b[0m\u001b[0;34m\u001b[0m\u001b[0m\n\u001b[1;32m     24\u001b[0m         \u001b[0;32mif\u001b[0m \u001b[0mtype_left\u001b[0m \u001b[0;34m!=\u001b[0m \u001b[0;34m'bool'\u001b[0m\u001b[0;34m:\u001b[0m\u001b[0;34m\u001b[0m\u001b[0m\n\u001b[0;32m---> 25\u001b[0;31m             \u001b[0;32mraise\u001b[0m \u001b[0mException\u001b[0m\u001b[0;34m(\u001b[0m\u001b[0;34m\"Expected: bool Actual: \"\u001b[0m \u001b[0;34m+\u001b[0m \u001b[0mtype_left\u001b[0m \u001b[0;34m+\u001b[0m \u001b[0;34m\" in expr: \"\u001b[0m\u001b[0;34m,\u001b[0m \u001b[0mexp\u001b[0m\u001b[0;34m[\u001b[0m\u001b[0;36m1\u001b[0m\u001b[0;34m]\u001b[0m\u001b[0;34m)\u001b[0m\u001b[0;34m\u001b[0m\u001b[0m\n\u001b[0m\u001b[1;32m     26\u001b[0m         \u001b[0;32mif\u001b[0m \u001b[0mlen\u001b[0m\u001b[0;34m(\u001b[0m\u001b[0mexp\u001b[0m\u001b[0;34m)\u001b[0m\u001b[0;34m==\u001b[0m\u001b[0;36m3\u001b[0m\u001b[0;34m:\u001b[0m\u001b[0;34m\u001b[0m\u001b[0m\n\u001b[1;32m     27\u001b[0m             \u001b[0mtype_right\u001b[0m \u001b[0;34m=\u001b[0m \u001b[0mtype_check\u001b[0m\u001b[0;34m(\u001b[0m\u001b[0mexp\u001b[0m\u001b[0;34m[\u001b[0m\u001b[0;36m2\u001b[0m\u001b[0;34m]\u001b[0m\u001b[0;34m,\u001b[0m \u001b[0miota\u001b[0m\u001b[0;34m)\u001b[0m\u001b[0;34m\u001b[0m\u001b[0m\n",
      "\u001b[0;31mException\u001b[0m: ('Expected: bool Actual: number in expr: ', ['number_const', 5.0])"
     ]
    }
   ],
   "source": [
    "iota = { }\n",
    "print('type_check(E5) = ', type_check(E5, iota))"
   ]
  }
 ],
 "metadata": {
  "kernelspec": {
   "display_name": "Python 3",
   "language": "python",
   "name": "python3"
  },
  "language_info": {
   "codemirror_mode": {
    "name": "ipython",
    "version": 3
   },
   "file_extension": ".py",
   "mimetype": "text/x-python",
   "name": "python",
   "nbconvert_exporter": "python",
   "pygments_lexer": "ipython3",
   "version": "3.6.6"
  }
 },
 "nbformat": 4,
 "nbformat_minor": 2
}
